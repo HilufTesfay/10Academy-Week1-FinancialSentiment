{
 "cells": [
  {
   "cell_type": "code",
   "execution_count": null,
   "id": "e49dde4d",
   "metadata": {},
   "outputs": [],
   "source": [
    "import pandas as pd\n",
    "import numpy as np\n"
   ]
  },
  {
   "cell_type": "code",
   "execution_count": null,
   "id": "3a56c759",
   "metadata": {},
   "outputs": [
    {
     "name": "stdout",
     "output_type": "stream",
     "text": [
      "(1407328, 6)\n",
      "['Unnamed: 0', 'headline', 'url', 'publisher', 'date', 'stock']\n"
     ]
    }
   ],
   "source": [
    "df=pd.read_csv('../data/raw/analyst_ratings.csv')\n",
    "print(df.shape)\n",
    "print(list(df.columns))"
   ]
  }
 ],
 "metadata": {
  "kernelspec": {
   "display_name": "venv",
   "language": "python",
   "name": "python3"
  },
  "language_info": {
   "codemirror_mode": {
    "name": "ipython",
    "version": 3
   },
   "file_extension": ".py",
   "mimetype": "text/x-python",
   "name": "python",
   "nbconvert_exporter": "python",
   "pygments_lexer": "ipython3",
   "version": "3.12.3"
  }
 },
 "nbformat": 4,
 "nbformat_minor": 5
}
